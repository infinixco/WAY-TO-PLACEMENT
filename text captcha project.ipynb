{
 "cells": [
  {
   "cell_type": "code",
   "execution_count": null,
   "metadata": {},
   "outputs": [],
   "source": []
  },
  {
   "cell_type": "code",
   "execution_count": null,
   "metadata": {},
   "outputs": [],
   "source": [
    "import random\n",
    "number=['1','2','3','4','5','6','7','8','9','0']\n",
    "lc=['q','w','e','r','t','y','u','i','o','p','a','s','d','f','g','h','j','k','l','z','x','c','v','b','n','m']\n",
    "uc=['Q','W','E','R','T','Y','U','I','O','P','A','S','D','F','G','H','J','K','L','Z','X','C','V','B','N','M']\n",
    "captcha_text=[]\n",
    "captcha=number+lc+uc\n",
    "for i in range(0,6):\n",
    "    char=random.choice(captcha)\n",
    "    captcha_text.append(char)\n",
    "x=''\n",
    "for i in captcha_text:\n",
    "    x=x+char\n",
    "print(captcha_text)\n",
    "print('please enter the captcha: ')\n",
    "check_captcha=input()\n",
    "for i in captcha_text:\n",
    "    for j in check_captcha:\n",
    "        if captcha_text[i]==check_captcha[j]:\n",
    "            print('you are in ')\n",
    "        else: \n",
    "            print('try again')"
   ]
  },
  {
   "cell_type": "code",
   "execution_count": 16,
   "metadata": {},
   "outputs": [
    {
     "name": "stdout",
     "output_type": "stream",
     "text": [
      "{'1', 'i', 'q', 't', 'j', 'P'}\n",
      "please enter the captcha: \n",
      "1iqtjP\n",
      "you are in\n"
     ]
    }
   ],
   "source": [
    "import random\n",
    "number=['1','2','3','4','5','6','7','8','9','0']\n",
    "lc=['q','w','e','r','t','y','u','i','o','p','a','s','d','f','g','h','j','k','l','z','x','c','v','b','n','m']\n",
    "uc=['Q','W','E','R','T','Y','U','I','O','P','A','S','D','F','G','H','J','K','L','Z','X','C','V','B','N','M']\n",
    "\n",
    "captcha=number+lc+uc\n",
    "a=0\n",
    "while a==0:\n",
    "    captcha_text=[]\n",
    "    for i in range(0,6):\n",
    "        char=random.choice(captcha)\n",
    "        captcha_text.append(char)\n",
    "    x=''\n",
    "    for i in captcha_text:\n",
    "        x=x+char\n",
    "    set1=set(captcha_text)\n",
    "    print(set1)\n",
    "    print('please enter the captcha: ')\n",
    "    check_captcha=input()\n",
    "    set2=set(check_captcha)\n",
    "    if set1==set2:\n",
    "        print(\"you are in\")\n",
    "        break\n",
    "    else:\n",
    "        print(\"sorry try again\")\n",
    "        a=0"
   ]
  },
  {
   "cell_type": "code",
   "execution_count": null,
   "metadata": {},
   "outputs": [],
   "source": []
  }
 ],
 "metadata": {
  "kernelspec": {
   "display_name": "Python 3",
   "language": "python",
   "name": "python3"
  },
  "language_info": {
   "codemirror_mode": {
    "name": "ipython",
    "version": 3
   },
   "file_extension": ".py",
   "mimetype": "text/x-python",
   "name": "python",
   "nbconvert_exporter": "python",
   "pygments_lexer": "ipython3",
   "version": "3.7.3"
  }
 },
 "nbformat": 4,
 "nbformat_minor": 2
}
