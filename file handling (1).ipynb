{
 "cells": [
  {
   "cell_type": "markdown",
   "metadata": {},
   "source": []
  },
  {
   "cell_type": "code",
   "execution_count": 15,
   "metadata": {},
   "outputs": [
    {
     "name": "stdout",
     "output_type": "stream",
     "text": [
      "enter text:i\n"
     ]
    }
   ],
   "source": [
    "#filehandler=open('file name', 'open mode', 'buffering')\n",
    "'''\n",
    "w write data into file, if any data then it would be deleted\n",
    "r read data drom the file\n",
    "a append data from a file, means adding at the end of existing data\n",
    "w+ write and read data of a file. previous daata will be deleted\n",
    "r+ read and write previous data not be deleted\n",
    "a+ append then read data of a file. pointer at the end of the file, file does not exist\n",
    "\n",
    "#it create a new file\n",
    "\n",
    "#f.close\n",
    "\n",
    "#f.write(str)\n",
    "\n",
    "\n",
    "#python program create a file to store character'''\n",
    "\n",
    "f= open('myfile.txt','w')\n",
    "\n",
    "#entrer charcter\n",
    "str=input('enter text:')\n",
    "\n",
    "f.write(str)\n",
    "\n",
    "f.close()"
   ]
  },
  {
   "cell_type": "code",
   "execution_count": 3,
   "metadata": {},
   "outputs": [
    {
     "name": "stdout",
     "output_type": "stream",
     "text": [
      "i am \n"
     ]
    }
   ],
   "source": [
    "#previous entered data is lost and file wiil be created as a fresh file\n",
    "\n",
    "# write the program to read character from a text file\n",
    "f=open('myfile.txt', 'r')\n",
    "#read all character from file\n",
    "#str=f.read()\n",
    "str=f.read(5) #it will read only first 4 bytes of the file\n",
    "#display them on screen\n",
    "print(str)\n",
    "f.close()"
   ]
  },
  {
   "cell_type": "code",
   "execution_count": 10,
   "metadata": {},
   "outputs": [
    {
     "name": "stdout",
     "output_type": "stream",
     "text": [
      "enter text (@ at end): \n"
     ]
    }
   ],
   "source": [
    "#program to store a group of string into a text file\n",
    "f=open('myfile.txt','w')\n",
    "\n",
    "#enter string from keyboard\n",
    "print('enter text (@ at end): ')\n",
    "while str != '@':\n",
    "    str=input()\n",
    "    if(str != '@'):\n",
    "        f.write(str+ '\\n')\n",
    "f.close()"
   ]
  },
  {
   "cell_type": "code",
   "execution_count": null,
   "metadata": {},
   "outputs": [],
   "source": []
  },
  {
   "cell_type": "code",
   "execution_count": 13,
   "metadata": {},
   "outputs": [
    {
     "name": "stdout",
     "output_type": "stream",
     "text": [
      "the file contents are:\n",
      "i am in class K18AZ\n"
     ]
    }
   ],
   "source": [
    "#program to read all the string from text file and display them\n",
    "\n",
    "f=open('myfile.txt', 'r')\n",
    "print('the file contents are:')\n",
    "\n",
    "str=f.read()\n",
    "print(str)\n",
    "f.close()"
   ]
  },
  {
   "cell_type": "code",
   "execution_count": 18,
   "metadata": {},
   "outputs": [
    {
     "name": "stdout",
     "output_type": "stream",
     "text": [
      "enter text to append(@ at end): \n",
      "abc\n",
      "@\n",
      "the file contents are: \n",
      "ilove\n",
      "python\n",
      "class\n",
      "love\n",
      "python\n",
      "class\n",
      "abc\n",
      "\n"
     ]
    }
   ],
   "source": [
    "#append data to the exixting file\n",
    "#f.open('myfile.txt', 'a+')\n",
    "#but first we should place the file handler to the beginning of the file\n",
    "#using seek() method as:\n",
    "#f.seek(offset, fromwhere)\n",
    "#offset represent how many bytes to move\n",
    "#fromwhere rep. which posiotion to move\n",
    "# 0 rep. from beginning of he file\n",
    "# 1 rep. from current position in the file\n",
    "# 2 rep. ending of file.\n",
    "#f.seek(10,0)\n",
    "#position the file handler at 10th byte from the beginning of the file\n",
    "#f.seek(0,0)\n",
    "#position of file handler at the 0th byte from the beginning of the file\n",
    "\n",
    "#program to append data to an existing file nd then display the entire file\n",
    "\n",
    "f=open('myfile.txt', 'a+')\n",
    "print('enter text to append(@ at end): ')\n",
    "while str != '@':\n",
    "    str=input()\n",
    "    if(str != '@'):\n",
    "        f.write(str+ '\\n')\n",
    "f.seek(0,0)\n",
    "print('the file contents are: ')\n",
    "str=f.read()\n",
    "print(str)\n",
    "f.close()"
   ]
  },
  {
   "cell_type": "code",
   "execution_count": 20,
   "metadata": {},
   "outputs": [
    {
     "name": "stdout",
     "output_type": "stream",
     "text": [
      "enter filename: ishan.txt\n",
      "ishan.txt does not exist\n"
     ]
    },
    {
     "ename": "SystemExit",
     "evalue": "",
     "output_type": "error",
     "traceback": [
      "An exception has occurred, use %tb to see the full traceback.\n",
      "\u001b[1;31mSystemExit\u001b[0m\n"
     ]
    },
    {
     "name": "stderr",
     "output_type": "stream",
     "text": [
      "C:\\Users\\ishan\\Anaconda3\\lib\\site-packages\\IPython\\core\\interactiveshell.py:2918: UserWarning: To exit: use 'exit', 'quit', or Ctrl-D.\n",
      "  warn(\"To exit: use 'exit', 'quit', or Ctrl-D.\", stacklevel=1)\n"
     ]
    }
   ],
   "source": [
    "#program to know whether a file exists or not\n",
    "import os, sys\n",
    "fname=input('enter filename: ')\n",
    "\n",
    "if os.path.isfile(fname):\n",
    "    f=open(fname, 'r')\n",
    "else:\n",
    "    print(fname+ ' does not exist')\n",
    "    sys.exit()\n",
    "\n",
    "print('the file contents are:')\n",
    "str=f.read()\n",
    "print(str)\n",
    "f.close()"
   ]
  },
  {
   "cell_type": "code",
   "execution_count": null,
   "metadata": {},
   "outputs": [],
   "source": [
    "#program to count number of lines, words and characters in a text file\n",
    "import os, sys\n",
    "fname = input('enter filename: ')\n",
    "if os.path.isfile(fname):\n",
    "    f=open(fname, 'r')\n",
    "else:\n",
    "    print(fname+ 'does not exist')\n",
    "    sys.exit\n",
    "#initializer the counter to 0\n",
    "cl=cw=cc=0\n",
    "#read line by line from file\n",
    "for line in f:\n",
    "    words=line.split()\n",
    "    cl+=1\n",
    "    cw+=len(words)\n",
    "    cc+=len(line)\n",
    "\n",
    "print('no. of lines: ', cl)\n",
    "print('no. of words: ' ,cw)\n",
    "print('no. of characters: ' ,cc)\n",
    "f.close()"
   ]
  },
  {
   "cell_type": "code",
   "execution_count": null,
   "metadata": {},
   "outputs": [],
   "source": [
    "#with statement\n",
    "\n",
    "#with open('filename', 'openmode') as fileobject:\n",
    "\n",
    "# advantage of with it will take care of\n",
    "#closing a file\n",
    "\n",
    "with open('myfile.txt', 'r')as f:\n",
    "    for line in f:\n",
    "        print(line)"
   ]
  },
  {
   "cell_type": "markdown",
   "metadata": {},
   "source": [
    "#pickle in python\n",
    "\n",
    "#we wrote some program where we store text inot file\n",
    "# ans retrieved same text from the file\n",
    "#these files are useful when we do not want to perform\n",
    "#any calculation on the data\n",
    "#what happen if we want to store some structured data\n",
    "#in the files\n",
    "#store some employee details like employee id,name\n",
    "#salary in a file.\n",
    "#to store such data we need to create a class\n",
    "\n",
    "class emp:\n",
    "    def __init__(self, id, name, sal):\n",
    "        self.id=id\n",
    "        self.name=name\n",
    "        self.sal=sal\n",
    "    def dis(self):\n",
    "        print(self.id, self.name, self.sal)\n",
    "\n",
    "#then we create an object to this class and store\n",
    "#actual data into that object\n",
    "#later this object should be stored into a binary file\n",
    "#in the form of bytes.\n",
    "        #this is called pickel or serialization\n",
    "#picke is a process of converting a class object into\n",
    "#a byte stream so that it can be stored into a file.\n",
    "        #called object serialization\n",
    "    #picking is done using\n",
    "        #pickle.dump(object,file)\n",
    "\n",
    "    #unpickling is done     using load\n",
    "    #object=pickle,load(file)"
   ]
  },
  {
   "cell_type": "code",
   "execution_count": null,
   "metadata": {},
   "outputs": [],
   "source": []
  },
  {
   "cell_type": "code",
   "execution_count": 21,
   "metadata": {},
   "outputs": [
    {
     "name": "stdout",
     "output_type": "stream",
     "text": [
      "how many employee: 2\n",
      "enter id: 1\n",
      "enter name: raju\n",
      "enter salary: 12345\n",
      "enter id: 2\n",
      "enter name: baburao\n",
      "enter salary: 12345\n"
     ]
    }
   ],
   "source": [
    "#program to pickle emp class objects\n",
    "import pickle\n",
    "f=open('abc1.txt', 'wb')\n",
    "n =int(input('how many employee: '))\n",
    "for i in range(n):\n",
    "    id = int(input('enter id: '))\n",
    "    name = input('enter name: ')\n",
    "    sal = float(input('enter salary: '))\n",
    "\n",
    "    #create emp class object\n",
    "    #e=emp.emp(id, name, sal)\n",
    "\n",
    "    #store the object e into the file f\n",
    "    pickle.dump(id,f)\n",
    "    pickle.dump(name,f)\n",
    "    pickle.dump(sal,f)\n",
    "    \n",
    "f.close()"
   ]
  },
  {
   "cell_type": "code",
   "execution_count": 22,
   "metadata": {},
   "outputs": [
    {
     "name": "stdout",
     "output_type": "stream",
     "text": [
      "employee details:\n",
      "1\n",
      "raju\n",
      "12345.0\n",
      "2\n",
      "baburao\n",
      "12345.0\n",
      "end of file reched\n"
     ]
    }
   ],
   "source": [
    "#if we wan to get back to the same object\n",
    "#we first unpickle\n",
    "#obj=pickle.load(f)\n",
    "\n",
    "#this method read the object from the file 'f'\n",
    "#an return it inot the 'obj'\n",
    "#then we display\n",
    "#obj. display\n",
    "#open emp file\n",
    "#program to unpickel emp class object\n",
    "\n",
    "import pickle\n",
    "f=open('abc1.txt','rb')\n",
    "print('employee details:')\n",
    "while True:\n",
    "    try:\n",
    "        obj=pickle.load(f)\n",
    "        #obj.dis()\n",
    "        print(obj)\n",
    "    except EOFError:\n",
    "        print('end of file reched')\n",
    "        break\n",
    "f.close()"
   ]
  },
  {
   "cell_type": "code",
   "execution_count": null,
   "metadata": {},
   "outputs": [],
   "source": [
    "#f.tell()\n",
    "#return  the current position of file pointer\n",
    "\n",
    "#program to create a binary file and store a few record\n",
    "#take record lenght 20 character\n",
    "reclen=20\n",
    "with open('cities.bin', 'wb') as f:\n",
    "    n=int(input('how many entries: '))\n",
    "    for i in range(n):\n",
    "        city = input('enter city name: ')\n",
    "        ln=len(city)\n",
    "        city=city + (reclen-ln)*' '\n",
    "        city=city.encode()\n",
    "        f.write(city)"
   ]
  },
  {
   "cell_type": "code",
   "execution_count": null,
   "metadata": {},
   "outputs": [],
   "source": [
    "#program to randomly access a record from a binary file\n",
    "\n",
    "reclen=20\n",
    "with open('cities.bin', 'rb') as f:\n",
    "    n = int(input('enter record number: '))\n",
    "    #move file pointer to the end of n-1 record\n",
    "    f.seek(reclen*(n-1))\n",
    "    #get the nth record with 20 chars\n",
    "    str=f.read(reclen)\n",
    "    #convert the byte string into ordinary string\n",
    "    print(str.decode())"
   ]
  },
  {
   "cell_type": "code",
   "execution_count": null,
   "metadata": {},
   "outputs": [],
   "source": []
  }
 ],
 "metadata": {
  "kernelspec": {
   "display_name": "Python 3",
   "language": "python",
   "name": "python3"
  },
  "language_info": {
   "codemirror_mode": {
    "name": "ipython",
    "version": 3
   },
   "file_extension": ".py",
   "mimetype": "text/x-python",
   "name": "python",
   "nbconvert_exporter": "python",
   "pygments_lexer": "ipython3",
   "version": "3.6.4"
  }
 },
 "nbformat": 4,
 "nbformat_minor": 2
}
