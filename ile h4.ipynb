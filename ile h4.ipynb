{
 "cells": [
  {
   "cell_type": "code",
   "execution_count": null,
   "metadata": {},
   "outputs": [],
   "source": [
    "#program to know whether a file exists or not\n",
    "import os, sys\n",
    "fname=input('enter filename: ')\n",
    "\n",
    "if os.path.isfile(fname):\n",
    "    f=open(fname, 'r')\n",
    "else:\n",
    "    print(fname+ ' does not exist')\n",
    "    sys.exit()\n",
    "\n",
    "print('the file contents are:')\n",
    "str=f.read()\n",
    "print(str)\n",
    "f.close()"
   ]
  }
 ],
 "metadata": {
  "kernelspec": {
   "display_name": "Python 3",
   "language": "python",
   "name": "python3"
  },
  "language_info": {
   "codemirror_mode": {
    "name": "ipython",
    "version": 3
   },
   "file_extension": ".py",
   "mimetype": "text/x-python",
   "name": "python",
   "nbconvert_exporter": "python",
   "pygments_lexer": "ipython3",
   "version": "3.7.3"
  }
 },
 "nbformat": 4,
 "nbformat_minor": 2
}
