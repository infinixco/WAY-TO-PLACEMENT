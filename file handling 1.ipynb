{
 "cells": [
  {
   "cell_type": "code",
   "execution_count": null,
   "metadata": {},
   "outputs": [],
   "source": [
    "#previous entered data is lost and file wiil be created as a fresh file\n",
    "\n",
    "# write the program to read character from a text file\n",
    "f=open('myfile.txt', 'r')\n",
    "#read all character from file\n",
    "#str=f.read()\n",
    "str=f.read(5) #it will read only first 4 bytes of the file\n",
    "#display them on screen\n",
    "print(str)\n",
    "f.close()"
   ]
  }
 ],
 "metadata": {
  "kernelspec": {
   "display_name": "Python 3",
   "language": "python",
   "name": "python3"
  },
  "language_info": {
   "codemirror_mode": {
    "name": "ipython",
    "version": 3
   },
   "file_extension": ".py",
   "mimetype": "text/x-python",
   "name": "python",
   "nbconvert_exporter": "python",
   "pygments_lexer": "ipython3",
   "version": "3.7.3"
  }
 },
 "nbformat": 4,
 "nbformat_minor": 2
}
