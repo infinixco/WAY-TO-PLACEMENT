{
 "cells": [
  {
   "cell_type": "code",
   "execution_count": null,
   "metadata": {},
   "outputs": [],
   "source": [
    "f=open('myfile.txt', 'a+')\n",
    "print('enter text to append(@ at end): ')\n",
    "while str != '@':\n",
    "    str=input()\n",
    "    if(str != '@'):\n",
    "        f.write(str+ '\\n')\n",
    "f.seek(0,0)\n",
    "print('the file contents are: ')\n",
    "str=f.read()\n",
    "print(str)\n",
    "f.close()"
   ]
  }
 ],
 "metadata": {
  "kernelspec": {
   "display_name": "Python 3",
   "language": "python",
   "name": "python3"
  },
  "language_info": {
   "codemirror_mode": {
    "name": "ipython",
    "version": 3
   },
   "file_extension": ".py",
   "mimetype": "text/x-python",
   "name": "python",
   "nbconvert_exporter": "python",
   "pygments_lexer": "ipython3",
   "version": "3.7.3"
  }
 },
 "nbformat": 4,
 "nbformat_minor": 2
}
